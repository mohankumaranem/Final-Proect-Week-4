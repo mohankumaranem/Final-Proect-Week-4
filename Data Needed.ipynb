{
    "cells": [
        {
            "cell_type": "markdown",
            "metadata": {
                "collapsed": true
            },
            "source": "# Description of Data"
        },
        {
            "cell_type": "markdown",
            "metadata": {},
            "source": "To Solve this Problem i Will need the following Data\n\n**1.** List of Neighbourhoods in Toronto,Canada.\n\n**2.** Co-ordinates of these Neighbourhoods.\n\n**3.** Venue Data related to Indian Restaurants\n\n**4.** This will help us find neughbourhoods that are most suitable to open a Indian Restaurants.\n"
        },
        {
            "cell_type": "markdown",
            "metadata": {},
            "source": "## Extraction of Data\n\n**1.** Scrapping of Data from Wikipedia about Neighbourhoods.\n\n**2.** Getting Latitude of Longitude data of these Neighbourhoods using **Geocoder Package.**\n\n**3.** Using **Foursquare API** to get venue data related to these Neighbourhoods."
        },
        {
            "cell_type": "code",
            "execution_count": null,
            "metadata": {},
            "outputs": [],
            "source": ""
        }
    ],
    "metadata": {
        "kernelspec": {
            "display_name": "Python 3.6",
            "language": "python",
            "name": "python3"
        },
        "language_info": {
            "codemirror_mode": {
                "name": "ipython",
                "version": 3
            },
            "file_extension": ".py",
            "mimetype": "text/x-python",
            "name": "python",
            "nbconvert_exporter": "python",
            "pygments_lexer": "ipython3",
            "version": "3.6.9"
        }
    },
    "nbformat": 4,
    "nbformat_minor": 1
}