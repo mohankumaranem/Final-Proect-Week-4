{
    "cells": [
        {
            "cell_type": "markdown",
            "metadata": {
                "collapsed": true
            },
            "source": "# My Project Will be Based on\n#                         To Predict and Find The Best Places to Open a INDIAN Restaruent"
        },
        {
            "cell_type": "markdown",
            "metadata": {},
            "source": "# Decripition of The Problem:\nFor this capstone Project i am creating a scenario in which an indian who settled in canada wants to explore openning a indian restaruent in Toronto Area.\nThe idea behind this project was because there are less indian restaruents in Toronto Area and it might present a great opprutunity for the enterpreneur\nwho is settled in Canada as the Number of indians migrating from India are increasing every year,this enterpreneur is thinking of opening a indian restaruent\nin locations where Indian food is popular **(where indian restaruents and indians in the neighbourhood)** with the purpose in mind, of finding the location to open\nthis type of restaruent is big and crucial task,Hence i'm trying to help this enterpreneur to find the most suitable location to open the restarurent. "
        },
        {
            "cell_type": "markdown",
            "metadata": {},
            "source": "## Background Of this Problem:\nAs you can see the immgiration list to canada every year. https://en.wikipedia.org/wiki/Immigration_to_Canada The pecentage of indians migrationg to canada is increasing.\nHence The Objective of this Project is to find the most suitable location to Open a indian restarurent in **Toronto,Canada.** By Using **Data Science Methods** and **Machine Learning** Such as **Clustering**.This Project aims to provide solutions to answer the Business Question:\n#### If an Enterpreneur wants to open a Indian Restaruent,Where should they open it?"
        },
        {
            "cell_type": "code",
            "execution_count": null,
            "metadata": {},
            "outputs": [],
            "source": ""
        }
    ],
    "metadata": {
        "kernelspec": {
            "display_name": "Python 3.6",
            "language": "python",
            "name": "python3"
        },
        "language_info": {
            "codemirror_mode": {
                "name": "ipython",
                "version": 3
            },
            "file_extension": ".py",
            "mimetype": "text/x-python",
            "name": "python",
            "nbconvert_exporter": "python",
            "pygments_lexer": "ipython3",
            "version": "3.6.9"
        }
    },
    "nbformat": 4,
    "nbformat_minor": 1
}